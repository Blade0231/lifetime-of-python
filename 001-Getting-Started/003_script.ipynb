{
 "cells": [
  {
   "cell_type": "markdown",
   "metadata": {},
   "source": [
    "## Probability Distributions :)\n"
   ]
  },
  {
   "cell_type": "code",
   "execution_count": 1,
   "metadata": {},
   "outputs": [],
   "source": [
    "from scipy import stats"
   ]
  },
  {
   "cell_type": "markdown",
   "metadata": {},
   "source": [
    "### 1. Binomial Distribution \n",
    "\n",
    "From a certain superstore, 10% of their products are returned. Considering today 20 customers have purchased items."
   ]
  },
  {
   "cell_type": "code",
   "execution_count": 3,
   "metadata": {},
   "outputs": [
    {
     "data": {
      "text/plain": [
       "0.03192136111995428"
      ]
     },
     "execution_count": 3,
     "metadata": {},
     "output_type": "execute_result"
    }
   ],
   "source": [
    "# 1- Probability that exactly 5 customers will return their items.\n",
    "# 5 is our success number, 20 is our number of trials and 0.1 is 10% probability that acustomer returns his/her products.\n",
    "\n",
    "stats.binom.pmf(5, 20, 0.1)"
   ]
  },
  {
   "cell_type": "code",
   "execution_count": 5,
   "metadata": {},
   "outputs": [
    {
     "data": {
      "text/plain": [
       "<AxesSubplot:xlabel='Success', ylabel='Probs'>"
      ]
     },
     "execution_count": 5,
     "metadata": {},
     "output_type": "execute_result"
    },
    {
     "data": {
      "image/png": "[encoded data removed]",
      "text/plain": [
       "<Figure size 432x288 with 1 Axes>"
      ]
     },
     "metadata": {
      "needs_background": "light"
     },
     "output_type": "display_data"
    }
   ],
   "source": [
    "# To Visualise probability of all possibilities\n",
    "\n",
    "import seaborn as sn\n",
    "import pandas as pd\n",
    "\n",
    "pbs = pd.DataFrame({\n",
    "    'Success':range(0,21),\n",
    "    'Probs': list(stats.binom.pmf(range(0,21), 20, 0.1))})\n",
    "\n",
    "sn.barplot(x=pbs.Success, y=pbs.Probs)"
   ]
  },
  {
   "cell_type": "code",
   "execution_count": 7,
   "metadata": {},
   "outputs": [
    {
     "data": {
      "text/plain": [
       "0.9887468658354902"
      ]
     },
     "execution_count": 7,
     "metadata": {},
     "output_type": "execute_result"
    }
   ],
   "source": [
    "#2. Probability that a maximum of 5 customers will return.\n",
    "# strat 1: we can sum up all occurences i.e. range(0,6)\n",
    "\n",
    "stats.binom.pmf(range(0,6), 20, 0.1).sum()"
   ]
  },
  {
   "cell_type": "code",
   "execution_count": 8,
   "metadata": {},
   "outputs": [
    {
     "data": {
      "text/plain": [
       "0.988746865835491"
      ]
     },
     "execution_count": 8,
     "metadata": {},
     "output_type": "execute_result"
    }
   ],
   "source": [
    "# strat 2 is to use cumulative distribution function\n",
    "\n",
    "stats.binom.cdf(5, 20, 0.1)"
   ]
  },
  {
   "cell_type": "code",
   "execution_count": 9,
   "metadata": {},
   "outputs": [
    {
     "data": {
      "text/plain": [
       "0.011253134164509015"
      ]
     },
     "execution_count": 9,
     "metadata": {},
     "output_type": "execute_result"
    }
   ],
   "source": [
    "#3. Probability that more than 5 customers will return the items\n",
    "\n",
    "1 - stats.binom.cdf(5, 20, 0.1)"
   ]
  },
  {
   "cell_type": "code",
   "execution_count": 11,
   "metadata": {},
   "outputs": [
    {
     "name": "stdout",
     "output_type": "stream",
     "text": [
      "2.0\n"
     ]
    }
   ],
   "source": [
    "#4. Average Number of customers who will return their items\n",
    "# Basically probability * Number of occurences, 0.1*20 = 2\n",
    "\n",
    "#Functionally\n",
    "\n",
    "mean, var = stats.binom.stats(20, 0.1)\n",
    "print(mean)\n"
   ]
  },
  {
   "cell_type": "markdown",
   "metadata": {},
   "source": [
    "### 2. Poisson Distribution\n",
    "\n",
    "Lets say a call center recieves 10 calls per hour.\n",
    "1. Calculate probability number of calls will ber maximum 5.\n",
    "2. Calculate probability that calls will eexceed over 30 in 3 hours"
   ]
  },
  {
   "cell_type": "code",
   "execution_count": 13,
   "metadata": {},
   "outputs": [
    {
     "data": {
      "text/plain": [
       "0.06708596287903189"
      ]
     },
     "execution_count": 13,
     "metadata": {},
     "output_type": "execute_result"
    }
   ],
   "source": [
    "# 1 - Simple cdf of poisson distribution\n",
    "\n",
    "stats.poisson.cdf(5, 10)"
   ]
  },
  {
   "cell_type": "code",
   "execution_count": 18,
   "metadata": {},
   "outputs": [
    {
     "data": {
      "text/plain": [
       "0.45164848742208863"
      ]
     },
     "execution_count": 18,
     "metadata": {},
     "output_type": "execute_result"
    }
   ],
   "source": [
    "# 2 - cdf above 30 \n",
    "1-stats.poisson.cdf(30, 30)"
   ]
  },
  {
   "cell_type": "code",
   "execution_count": 20,
   "metadata": {},
   "outputs": [
    {
     "data": {
      "text/plain": [
       "<AxesSubplot:xlabel='Events', ylabel='Probability'>"
      ]
     },
     "execution_count": 20,
     "metadata": {},
     "output_type": "execute_result"
    },
    {
     "data": {
      "image/png": "[encoded data removed]",
      "text/plain": [
       "<Figure size 432x288 with 1 Axes>"
      ]
     },
     "metadata": {
      "needs_background": "light"
     },
     "output_type": "display_data"
    }
   ],
   "source": [
    "#Visualisation of the Distribution\n",
    "\n",
    "psn = pd.DataFrame({\n",
    "    'Events': range(0,30),\n",
    "    'Probability': list(stats.poisson.pmf(range(0,30), 10))\n",
    "})\n",
    "\n",
    "sn.barplot(x=psn.Events, y=psn.Probability)"
   ]
  },
  {
   "cell_type": "markdown",
   "metadata": {},
   "source": [
    "### 3. Exponential Distribution\n",
    "\n",
    "Consider Mean time between failure of an avionic system as 1000 hours, calculate,\n",
    "\n",
    "1. Probability of system failure before 1000 hours\n",
    "2. probability it will not fail upto 2000 hours\n",
    "3. Time by which 10% of system will fail (p10 Life)"
   ]
  },
  {
   "cell_type": "code",
   "execution_count": 21,
   "metadata": {},
   "outputs": [
    {
     "data": {
      "text/plain": [
       "0.6321201909489326"
      ]
     },
     "execution_count": 21,
     "metadata": {},
     "output_type": "execute_result"
    }
   ],
   "source": [
    "# 1. simple cdf for 1k hours \n",
    "\n",
    "stats.expon.cdf(1000, 1/1000, 1000)"
   ]
  },
  {
   "cell_type": "code",
   "execution_count": 23,
   "metadata": {},
   "outputs": [
    {
     "data": {
      "text/plain": [
       "0.13533541857196352"
      ]
     },
     "execution_count": 23,
     "metadata": {},
     "output_type": "execute_result"
    }
   ],
   "source": [
    "# 2. same just for 2k hours\n",
    "\n",
    "1-stats.expon.cdf(2000, 1/1000, 1000)"
   ]
  },
  {
   "cell_type": "code",
   "execution_count": 24,
   "metadata": {},
   "outputs": [
    {
     "data": {
      "text/plain": [
       "105.36151565782632"
      ]
     },
     "execution_count": 24,
     "metadata": {},
     "output_type": "execute_result"
    }
   ],
   "source": [
    "# For this we have ppf function i.e. Percent point function, GIves output inthis case hours\n",
    "\n",
    "stats.expon.ppf(0.1, 1/1000, 1000)"
   ]
  },
  {
   "cell_type": "code",
   "execution_count": 30,
   "metadata": {},
   "outputs": [
    {
     "data": {
      "text/plain": [
       "<AxesSubplot:xlabel='TimeToFailure', ylabel='pdf'>"
      ]
     },
     "execution_count": 30,
     "metadata": {},
     "output_type": "execute_result"
    },
    {
     "data": {
      "image/png": "[encoded data removed]",
      "text/plain": [
       "<Figure size 1800x288 with 1 Axes>"
      ]
     },
     "metadata": {
      "needs_background": "light"
     },
     "output_type": "display_data"
    }
   ],
   "source": [
    "#Visualisation of Exponential Function\n",
    "\n",
    "exp = pd.DataFrame({\n",
    "    'TimeToFailure': range(0, 5000, 100),\n",
    "    'pdf' : stats.expon.pdf(range(0, 5000, 100), 1/1000, 1000)\n",
    "})\n",
    "\n",
    "import matplotlib.pyplot as plt\n",
    "plt.figure(figsize=(25,4))\n",
    "sn.barplot(x=exp.TimeToFailure, y=exp.pdf)"
   ]
  },
  {
   "cell_type": "markdown",
   "metadata": {},
   "source": []
  },
  {
   "cell_type": "code",
   "execution_count": null,
   "metadata": {},
   "outputs": [],
   "source": []
  }
 ],
 "metadata": {
  "interpreter": {
   "hash": "42206de186bec4291171034e9f28f2f718cbb75dcaa440305bafac53952b4736"
  },
  "kernelspec": {
   "display_name": "Python 3.8.8 ('base')",
   "language": "python",
   "name": "python3"
  },
  "language_info": {
   "codemirror_mode": {
    "name": "ipython",
    "version": 3
   },
   "file_extension": ".py",
   "mimetype": "text/x-python",
   "name": "python",
   "nbconvert_exporter": "python",
   "pygments_lexer": "ipython3",
   "version": "3.8.8"
  },
  "orig_nbformat": 4
 },
 "nbformat": 4,
 "nbformat_minor": 2
}
