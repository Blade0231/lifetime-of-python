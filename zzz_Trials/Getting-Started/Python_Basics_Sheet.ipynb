{
 "cells": [
  {
   "cell_type": "markdown",
   "id": "4b9b2ea5",
   "metadata": {},
   "source": [
    "# Getting Started with Python\n",
    "\n",
    "## Basic Arithmetic and String Operations"
   ]
  },
  {
   "cell_type": "code",
   "execution_count": 21,
   "id": "34ea4759",
   "metadata": {},
   "outputs": [
    {
     "data": {
      "text/plain": [
       "int"
      ]
     },
     "execution_count": 21,
     "metadata": {},
     "output_type": "execute_result"
    }
   ],
   "source": [
    "a = 8\n",
    "b = 3\n",
    "\n",
    "type(a)"
   ]
  },
  {
   "cell_type": "code",
   "execution_count": 19,
   "id": "05d90908",
   "metadata": {},
   "outputs": [
    {
     "name": "stdout",
     "output_type": "stream",
     "text": [
      "Addition       : 11\n",
      "Substraction   : 5\n",
      "Multiplication : 24\n",
      "Division       : 2.6666666666666665\n",
      "Modulus        : 2\n",
      "Floor Division : 2\n",
      "Exponentiation : 512\n"
     ]
    }
   ],
   "source": [
    "print('Addition       :', a+b)\n",
    "\n",
    "print('Substraction   :', a-b)\n",
    "\n",
    "print('Multiplication :', a*b)\n",
    "\n",
    "print('Division       :', a/b)\n",
    "\n",
    "print('Modulus        :', a%b)\n",
    "\n",
    "print('Floor Division :', a//b)\n",
    "\n",
    "print('Exponentiation :', a**b)"
   ]
  },
  {
   "cell_type": "code",
   "execution_count": 25,
   "id": "a8685bb9",
   "metadata": {},
   "outputs": [
    {
     "data": {
      "text/plain": [
       "bool"
      ]
     },
     "execution_count": 25,
     "metadata": {},
     "output_type": "execute_result"
    }
   ],
   "source": [
    "t = True\n",
    "f = False\n",
    "\n",
    "type(t)"
   ]
  },
  {
   "cell_type": "markdown",
   "id": "457f6410",
   "metadata": {},
   "source": [
    "## String Operations"
   ]
  },
  {
   "cell_type": "code",
   "execution_count": 6,
   "id": "a610ac5f",
   "metadata": {},
   "outputs": [
    {
     "name": "stdout",
     "output_type": "stream",
     "text": [
      "<class 'str'>\n"
     ]
    }
   ],
   "source": [
    "text = 'GettinG StarteD WitH PythoN'\n",
    " \n",
    "print(text)\n"
   ]
  },
  {
   "cell_type": "code",
   "execution_count": 8,
   "id": "6c9e6b9a",
   "metadata": {},
   "outputs": [
    {
     "name": "stdout",
     "output_type": "stream",
     "text": [
      "Upper Case:  GETTING STARTED WITH PYTHON\n",
      "Lower Case:  getting started with python\n",
      "Title Case:  Getting Started With Python\n"
     ]
    }
   ],
   "source": [
    "print('Upper Case: ', text.upper())\n",
    "\n",
    "print('Lower Case: ', text.lower())\n",
    " \n",
    "print('Title Case: ', text.title())"
   ]
  },
  {
   "cell_type": "code",
   "execution_count": 26,
   "id": "78475ad2",
   "metadata": {},
   "outputs": [
    {
     "data": {
      "text/plain": [
       "'GettinG StarteD WitH Java'"
      ]
     },
     "execution_count": 26,
     "metadata": {},
     "output_type": "execute_result"
    }
   ],
   "source": [
    "text.replace('PythoN', 'Java')"
   ]
  },
  {
   "cell_type": "code",
   "execution_count": 29,
   "id": "d73a478d",
   "metadata": {},
   "outputs": [
    {
     "data": {
      "text/plain": [
       "['GettinG StarteD ', ' PythoN']"
      ]
     },
     "execution_count": 29,
     "metadata": {},
     "output_type": "execute_result"
    }
   ],
   "source": [
    "text.split('WitH')"
   ]
  },
  {
   "cell_type": "code",
   "execution_count": 34,
   "id": "f2066740",
   "metadata": {},
   "outputs": [
    {
     "data": {
      "text/plain": [
       "'GettinG'"
      ]
     },
     "execution_count": 34,
     "metadata": {},
     "output_type": "execute_result"
    }
   ],
   "source": [
    "text[0:7]"
   ]
  },
  {
   "cell_type": "code",
   "execution_count": 31,
   "id": "72368b07",
   "metadata": {},
   "outputs": [
    {
     "data": {
      "text/plain": [
       "'Hello'"
      ]
     },
     "execution_count": 31,
     "metadata": {},
     "output_type": "execute_result"
    }
   ],
   "source": [
    "'  Hello  '.strip()"
   ]
  },
  {
   "cell_type": "markdown",
   "id": "a1301149",
   "metadata": {},
   "source": [
    "## Sequential Data Types\n",
    "\n",
    "# 1. Lists\n",
    "\n",
    "Lists are just like dynamic sized arrays, declared in other languages (vector in C++ and ArrayList in Java)."
   ]
  },
  {
   "cell_type": "code",
   "execution_count": 23,
   "id": "356b7dd3",
   "metadata": {},
   "outputs": [
    {
     "data": {
      "text/plain": [
       "list"
      ]
     },
     "execution_count": 23,
     "metadata": {},
     "output_type": "execute_result"
    }
   ],
   "source": [
    "cities = ['London', 'Pune', 'NY']\n",
    "type(cities)"
   ]
  },
  {
   "cell_type": "code",
   "execution_count": 22,
   "id": "52e8a272",
   "metadata": {},
   "outputs": [
    {
     "data": {
      "text/plain": [
       "'Pune'"
      ]
     },
     "execution_count": 22,
     "metadata": {},
     "output_type": "execute_result"
    }
   ],
   "source": [
    "cities[1]"
   ]
  },
  {
   "cell_type": "code",
   "execution_count": 24,
   "id": "6c0ebf5d",
   "metadata": {},
   "outputs": [
    {
     "data": {
      "text/plain": [
       "3"
      ]
     },
     "execution_count": 24,
     "metadata": {},
     "output_type": "execute_result"
    }
   ],
   "source": [
    "len(cities)"
   ]
  },
  {
   "cell_type": "code",
   "execution_count": 28,
   "id": "d599e6b2",
   "metadata": {},
   "outputs": [
    {
     "data": {
      "text/plain": [
       "'NY'"
      ]
     },
     "execution_count": 28,
     "metadata": {},
     "output_type": "execute_result"
    }
   ],
   "source": [
    "cities[-1]"
   ]
  },
  {
   "cell_type": "code",
   "execution_count": 30,
   "id": "061ecab8",
   "metadata": {},
   "outputs": [
    {
     "data": {
      "text/plain": [
       "['London', 'Pune']"
      ]
     },
     "execution_count": 30,
     "metadata": {},
     "output_type": "execute_result"
    }
   ],
   "source": [
    "cities[:-1]"
   ]
  },
  {
   "cell_type": "code",
   "execution_count": 31,
   "id": "e0d3f50a",
   "metadata": {},
   "outputs": [
    {
     "data": {
      "text/plain": [
       "['Pune', 'NY']"
      ]
     },
     "execution_count": 31,
     "metadata": {},
     "output_type": "execute_result"
    }
   ],
   "source": [
    "cities[1:3]"
   ]
  },
  {
   "cell_type": "code",
   "execution_count": 33,
   "id": "6edafb2a",
   "metadata": {},
   "outputs": [],
   "source": [
    "country_cap = [['India','Delhi'], ['UK','London']]"
   ]
  },
  {
   "cell_type": "code",
   "execution_count": 34,
   "id": "1770fce7",
   "metadata": {},
   "outputs": [
    {
     "data": {
      "text/plain": [
       "['UK', 'London']"
      ]
     },
     "execution_count": 34,
     "metadata": {},
     "output_type": "execute_result"
    }
   ],
   "source": [
    "country_cap[1]"
   ]
  },
  {
   "cell_type": "code",
   "execution_count": 40,
   "id": "3cb80f8e",
   "metadata": {},
   "outputs": [
    {
     "data": {
      "text/plain": [
       "'London'"
      ]
     },
     "execution_count": 40,
     "metadata": {},
     "output_type": "execute_result"
    }
   ],
   "source": [
    "country_cap[1][1]"
   ]
  },
  {
   "cell_type": "code",
   "execution_count": 71,
   "id": "db58ec87",
   "metadata": {},
   "outputs": [
    {
     "data": {
      "text/plain": [
       "int"
      ]
     },
     "execution_count": 71,
     "metadata": {},
     "output_type": "execute_result"
    }
   ],
   "source": [
    "l1 = [1, 'hello', True]\n",
    "\n",
    "type(l1[0])"
   ]
  },
  {
   "cell_type": "code",
   "execution_count": 72,
   "id": "fc2d98fa",
   "metadata": {},
   "outputs": [
    {
     "data": {
      "text/plain": [
       "str"
      ]
     },
     "execution_count": 72,
     "metadata": {},
     "output_type": "execute_result"
    }
   ],
   "source": [
    "type(l1[1])"
   ]
  },
  {
   "cell_type": "code",
   "execution_count": 73,
   "id": "79d2b4e5",
   "metadata": {},
   "outputs": [
    {
     "data": {
      "text/plain": [
       "bool"
      ]
     },
     "execution_count": 73,
     "metadata": {},
     "output_type": "execute_result"
    }
   ],
   "source": [
    "type(l1[2])"
   ]
  },
  {
   "cell_type": "code",
   "execution_count": 74,
   "id": "0198b5cd",
   "metadata": {},
   "outputs": [],
   "source": [
    "l1[1]='bye'"
   ]
  },
  {
   "cell_type": "code",
   "execution_count": 75,
   "id": "8683b660",
   "metadata": {},
   "outputs": [
    {
     "data": {
      "text/plain": [
       "[1, 'bye', True]"
      ]
     },
     "execution_count": 75,
     "metadata": {},
     "output_type": "execute_result"
    }
   ],
   "source": [
    "l1"
   ]
  },
  {
   "cell_type": "code",
   "execution_count": 76,
   "id": "e4995203",
   "metadata": {},
   "outputs": [
    {
     "data": {
      "text/plain": [
       "[1, 'bye', True, 'append']"
      ]
     },
     "execution_count": 76,
     "metadata": {},
     "output_type": "execute_result"
    }
   ],
   "source": [
    "l1.append('append')\n",
    "l1"
   ]
  },
  {
   "cell_type": "code",
   "execution_count": 77,
   "id": "19b4cc71",
   "metadata": {},
   "outputs": [
    {
     "data": {
      "text/plain": [
       "'append'"
      ]
     },
     "execution_count": 77,
     "metadata": {},
     "output_type": "execute_result"
    }
   ],
   "source": [
    "l1.pop()"
   ]
  },
  {
   "cell_type": "code",
   "execution_count": 78,
   "id": "7f9944a5",
   "metadata": {},
   "outputs": [
    {
     "data": {
      "text/plain": [
       "[1, 'At Position 1', 'bye', True]"
      ]
     },
     "execution_count": 78,
     "metadata": {},
     "output_type": "execute_result"
    }
   ],
   "source": [
    "l1.insert(1, 'At Position 1')\n",
    "l1"
   ]
  },
  {
   "cell_type": "code",
   "execution_count": 79,
   "id": "ad7a2452",
   "metadata": {},
   "outputs": [
    {
     "data": {
      "text/plain": [
       "[1, 'At Position 1', 'bye', True, ['London', 'Pune', 'NY']]"
      ]
     },
     "execution_count": 79,
     "metadata": {},
     "output_type": "execute_result"
    }
   ],
   "source": [
    "#Add whole list at same index\n",
    "l1.append(cities)\n",
    "l1"
   ]
  },
  {
   "cell_type": "code",
   "execution_count": 80,
   "id": "234c0f92",
   "metadata": {},
   "outputs": [
    {
     "data": {
      "text/plain": [
       "[1,\n",
       " 'At Position 1',\n",
       " 'bye',\n",
       " True,\n",
       " ['London', 'Pune', 'NY'],\n",
       " 'London',\n",
       " 'Pune',\n",
       " 'NY']"
      ]
     },
     "execution_count": 80,
     "metadata": {},
     "output_type": "execute_result"
    }
   ],
   "source": [
    "#Add Elements \n",
    "l1.extend(cities)\n",
    "l1"
   ]
  },
  {
   "cell_type": "code",
   "execution_count": 86,
   "id": "0bb94dd6",
   "metadata": {},
   "outputs": [
    {
     "data": {
      "text/plain": [
       "[1, 2, 3, 4, 5, 6]"
      ]
     },
     "execution_count": 86,
     "metadata": {},
     "output_type": "execute_result"
    }
   ],
   "source": [
    "x = [1, 2, 3]\n",
    "y = [4, 5, 6]\n",
    "\n",
    "x+y"
   ]
  },
  {
   "cell_type": "code",
   "execution_count": 87,
   "id": "29a554a5",
   "metadata": {},
   "outputs": [
    {
     "data": {
      "text/plain": [
       "True"
      ]
     },
     "execution_count": 87,
     "metadata": {},
     "output_type": "execute_result"
    }
   ],
   "source": [
    "2 in x"
   ]
  },
  {
   "cell_type": "code",
   "execution_count": 88,
   "id": "e0ac0cc2",
   "metadata": {},
   "outputs": [
    {
     "data": {
      "text/plain": [
       "[1, 3]"
      ]
     },
     "execution_count": 88,
     "metadata": {},
     "output_type": "execute_result"
    }
   ],
   "source": [
    "x.remove(2)\n",
    "x"
   ]
  },
  {
   "cell_type": "markdown",
   "id": "ab9780de",
   "metadata": {},
   "source": [
    "# 2. Tuples\n",
    "\n",
    "A Tuple is a collection of Python objects separated by commas. In some ways, a tuple is similar to a list in terms of indexing, nested objects, and repetition but a tuple is immutable, unlike lists that are mutable."
   ]
  },
  {
   "cell_type": "code",
   "execution_count": 59,
   "id": "91087cdf",
   "metadata": {},
   "outputs": [
    {
     "data": {
      "text/plain": [
       "tuple"
      ]
     },
     "execution_count": 59,
     "metadata": {},
     "output_type": "execute_result"
    }
   ],
   "source": [
    "#Cant change a Tuple after definition\n",
    "t = (\"Tuple\", \"are\", 'Immutable')\n",
    "type(t)"
   ]
  },
  {
   "cell_type": "code",
   "execution_count": 60,
   "id": "d0290e60",
   "metadata": {},
   "outputs": [
    {
     "data": {
      "text/plain": [
       "'Tuple'"
      ]
     },
     "execution_count": 60,
     "metadata": {},
     "output_type": "execute_result"
    }
   ],
   "source": [
    "t[0]"
   ]
  },
  {
   "cell_type": "code",
   "execution_count": 61,
   "id": "0502bc24",
   "metadata": {},
   "outputs": [
    {
     "ename": "TypeError",
     "evalue": "'tuple' object does not support item assignment",
     "output_type": "error",
     "traceback": [
      "\u001b[1;31m---------------------------------------------------------------------------\u001b[0m",
      "\u001b[1;31mTypeError\u001b[0m                                 Traceback (most recent call last)",
      "\u001b[1;32m<ipython-input-61-0d10d82b11d1>\u001b[0m in \u001b[0;36m<module>\u001b[1;34m\u001b[0m\n\u001b[1;32m----> 1\u001b[1;33m \u001b[0mt\u001b[0m\u001b[1;33m[\u001b[0m\u001b[1;36m0\u001b[0m\u001b[1;33m]\u001b[0m \u001b[1;33m=\u001b[0m \u001b[1;34m'Trying to change'\u001b[0m\u001b[1;33m\u001b[0m\u001b[1;33m\u001b[0m\u001b[0m\n\u001b[0m",
      "\u001b[1;31mTypeError\u001b[0m: 'tuple' object does not support item assignment"
     ]
    }
   ],
   "source": [
    "t[0] = 'Trying to change'"
   ]
  },
  {
   "cell_type": "markdown",
   "id": "419a5e0e",
   "metadata": {},
   "source": [
    "# 3. Dictionaries\n",
    "\n",
    "Dictionary in python is an ordered (since Py 3.7) [unordered (Py 3.6 & prior)] collection of data values, used to store data values like a map, Dictionary holds key:value pair."
   ]
  },
  {
   "cell_type": "code",
   "execution_count": 89,
   "id": "bc878139",
   "metadata": {},
   "outputs": [],
   "source": [
    "city_population = {\"New York City\": 8_550_405, \n",
    "                   \"Los Angeles\": 3_971_883, \n",
    "                   \"Toronto\": 2_731_571, }"
   ]
  },
  {
   "cell_type": "code",
   "execution_count": 92,
   "id": "26eef9ae",
   "metadata": {},
   "outputs": [
    {
     "data": {
      "text/plain": [
       "2731571"
      ]
     },
     "execution_count": 92,
     "metadata": {},
     "output_type": "execute_result"
    }
   ],
   "source": [
    "city_population['Toronto']"
   ]
  },
  {
   "cell_type": "code",
   "execution_count": 93,
   "id": "f382f68c",
   "metadata": {},
   "outputs": [
    {
     "data": {
      "text/plain": [
       "int"
      ]
     },
     "execution_count": 93,
     "metadata": {},
     "output_type": "execute_result"
    }
   ],
   "source": [
    "type(city_population['Toronto'])"
   ]
  },
  {
   "cell_type": "code",
   "execution_count": 94,
   "id": "db37587f",
   "metadata": {},
   "outputs": [
    {
     "data": {
      "text/plain": [
       "dict_keys(['New York City', 'Los Angeles', 'Toronto'])"
      ]
     },
     "execution_count": 94,
     "metadata": {},
     "output_type": "execute_result"
    }
   ],
   "source": [
    "city_population.keys()"
   ]
  },
  {
   "cell_type": "code",
   "execution_count": 95,
   "id": "81ac3885",
   "metadata": {},
   "outputs": [
    {
     "data": {
      "text/plain": [
       "dict_items([('New York City', 8550405), ('Los Angeles', 3971883), ('Toronto', 2731571)])"
      ]
     },
     "execution_count": 95,
     "metadata": {},
     "output_type": "execute_result"
    }
   ],
   "source": [
    "city_population.items()"
   ]
  },
  {
   "cell_type": "code",
   "execution_count": 96,
   "id": "f0ad60b8",
   "metadata": {},
   "outputs": [
    {
     "data": {
      "text/plain": [
       "3"
      ]
     },
     "execution_count": 96,
     "metadata": {},
     "output_type": "execute_result"
    }
   ],
   "source": [
    "len(city_population)"
   ]
  },
  {
   "cell_type": "code",
   "execution_count": 97,
   "id": "17e9c751",
   "metadata": {},
   "outputs": [
    {
     "data": {
      "text/plain": [
       "True"
      ]
     },
     "execution_count": 97,
     "metadata": {},
     "output_type": "execute_result"
    }
   ],
   "source": [
    "'Toronto' in city_population"
   ]
  },
  {
   "cell_type": "code",
   "execution_count": 99,
   "id": "2619b376",
   "metadata": {},
   "outputs": [
    {
     "data": {
      "text/plain": [
       "{'New York City': 8550405, 'Los Angeles': 3971883}"
      ]
     },
     "execution_count": 99,
     "metadata": {},
     "output_type": "execute_result"
    }
   ],
   "source": [
    "del city_population['Toronto']\n",
    "city_population"
   ]
  },
  {
   "cell_type": "code",
   "execution_count": 104,
   "id": "33aee4f4",
   "metadata": {},
   "outputs": [
    {
     "data": {
      "text/plain": [
       "{'Frank': {'Perl'}, 'Monica': {'C', 'C++'}}"
      ]
     },
     "execution_count": 104,
     "metadata": {},
     "output_type": "execute_result"
    }
   ],
   "source": [
    "#MERGEING DICTIONARIES\n",
    "knowledge = {\"Frank\": {\"Perl\"}, \"Monica\":{\"C\",\"C++\"}}\n",
    "knowledge"
   ]
  },
  {
   "cell_type": "code",
   "execution_count": 105,
   "id": "d704bb8c",
   "metadata": {},
   "outputs": [
    {
     "data": {
      "text/plain": [
       "{'Frank': {'Perl'},\n",
       " 'Monica': {'C', 'C++'},\n",
       " 'New York City': 8550405,\n",
       " 'Los Angeles': 3971883}"
      ]
     },
     "execution_count": 105,
     "metadata": {},
     "output_type": "execute_result"
    }
   ],
   "source": [
    "knowledge.update(city_population)\n",
    "knowledge"
   ]
  },
  {
   "cell_type": "markdown",
   "id": "ec921f81",
   "metadata": {},
   "source": [
    "# 4. Sets\n",
    "A Set is an unordered collection data type that is iterable, mutable, and has no duplicate elements. Python’s set class represents the mathematical notion of a set."
   ]
  },
  {
   "cell_type": "code",
   "execution_count": 108,
   "id": "58d601e4",
   "metadata": {},
   "outputs": [
    {
     "data": {
      "text/plain": [
       "set"
      ]
     },
     "execution_count": 108,
     "metadata": {},
     "output_type": "execute_result"
    }
   ],
   "source": [
    "#Keeps Unique items\n",
    "x = set(\"C++ Python Java\")\n",
    "type(x)"
   ]
  },
  {
   "cell_type": "code",
   "execution_count": 109,
   "id": "0ea08e9b",
   "metadata": {},
   "outputs": [
    {
     "data": {
      "text/plain": [
       "{' ', '+', 'C', 'J', 'P', 'a', 'h', 'n', 'o', 't', 'v', 'y'}"
      ]
     },
     "execution_count": 109,
     "metadata": {},
     "output_type": "execute_result"
    }
   ],
   "source": [
    "x"
   ]
  },
  {
   "cell_type": "code",
   "execution_count": 36,
   "id": "c73d2006",
   "metadata": {},
   "outputs": [
    {
     "data": {
      "text/plain": [
       "{'Java', 'Perl', 'Python'}"
      ]
     },
     "execution_count": 36,
     "metadata": {},
     "output_type": "execute_result"
    }
   ],
   "source": [
    "x = set([\"Perl\", \"Python\", \"Java\"])\n",
    "x"
   ]
  },
  {
   "cell_type": "code",
   "execution_count": 41,
   "id": "09f41deb",
   "metadata": {},
   "outputs": [
    {
     "data": {
      "text/plain": [
       "{'C++', 'Java', 'Perl', 'Python'}"
      ]
     },
     "execution_count": 41,
     "metadata": {},
     "output_type": "execute_result"
    }
   ],
   "source": [
    "x.add('C++')\n",
    "\n",
    "x"
   ]
  },
  {
   "cell_type": "code",
   "execution_count": 42,
   "id": "ac96328d",
   "metadata": {},
   "outputs": [
    {
     "data": {
      "text/plain": [
       "{'Java', 'Perl', 'Python'}"
      ]
     },
     "execution_count": 42,
     "metadata": {},
     "output_type": "execute_result"
    }
   ],
   "source": [
    "x.remove('C++')\n",
    "\n",
    "x"
   ]
  },
  {
   "cell_type": "code",
   "execution_count": 43,
   "id": "52aa71c8",
   "metadata": {},
   "outputs": [
    {
     "name": "stdout",
     "output_type": "stream",
     "text": [
      "Union : {0, 1, 2, 3, 4, 5, 6, 8}\n",
      "Intersection : {2, 4}\n",
      "Difference : {0, 8, 6}\n",
      "Symmetric difference : {0, 1, 3, 5, 6, 8}\n"
     ]
    }
   ],
   "source": [
    "A = {0, 2, 4, 6, 8};\n",
    "B = {1, 2, 3, 4, 5};\n",
    "  \n",
    "# union\n",
    "print(\"Union :\", A | B)\n",
    "  \n",
    "# intersection\n",
    "print(\"Intersection :\", A & B)\n",
    "  \n",
    "# difference\n",
    "print(\"Difference :\", A - B)\n",
    "  \n",
    "# symmetric difference\n",
    "print(\"Symmetric difference :\", A ^ B)"
   ]
  },
  {
   "cell_type": "markdown",
   "id": "905628dc",
   "metadata": {},
   "source": [
    "# Conditions and Loops"
   ]
  },
  {
   "cell_type": "code",
   "execution_count": 44,
   "id": "c0b01ee4",
   "metadata": {},
   "outputs": [
    {
     "name": "stdout",
     "output_type": "stream",
     "text": [
      "negative\n"
     ]
    }
   ],
   "source": [
    "level = -5\n",
    "\n",
    "if level < 0:\n",
    "    print(\"negative\")\n",
    "elif level == 0:\n",
    "    print(\"null\")\n",
    "else: # level > 0\n",
    "    print(\"positive\")"
   ]
  },
  {
   "cell_type": "code",
   "execution_count": 45,
   "id": "a36920d5",
   "metadata": {},
   "outputs": [
    {
     "name": "stdout",
     "output_type": "stream",
     "text": [
      "1\n",
      "2\n",
      "3\n"
     ]
    }
   ],
   "source": [
    "x = [1, 2, 3]\n",
    "i = 0\n",
    "while i < len(x):\n",
    "  print(x[i])\n",
    "  i += 1 "
   ]
  },
  {
   "cell_type": "code",
   "execution_count": 46,
   "id": "beb800e6",
   "metadata": {},
   "outputs": [
    {
     "name": "stdout",
     "output_type": "stream",
     "text": [
      "1\n",
      "2\n",
      "3\n"
     ]
    }
   ],
   "source": [
    "for i in range(len(x)):\n",
    "  print(x[i])"
   ]
  },
  {
   "cell_type": "code",
   "execution_count": 48,
   "id": "621a1f16",
   "metadata": {},
   "outputs": [
    {
     "name": "stdout",
     "output_type": "stream",
     "text": [
      "dog\n",
      "cat\n",
      "monkey\n",
      "bear\n"
     ]
    }
   ],
   "source": [
    "animals = ['dog', 'cat', 'monkey', 'bear']\n",
    "\n",
    "for i in animals:                \n",
    "    print(i)"
   ]
  },
  {
   "cell_type": "markdown",
   "id": "ce051d3c",
   "metadata": {},
   "source": [
    "# List Comprehensions"
   ]
  },
  {
   "cell_type": "code",
   "execution_count": 49,
   "id": "f8347607",
   "metadata": {},
   "outputs": [
    {
     "name": "stdout",
     "output_type": "stream",
     "text": [
      "[0, 1, 4, 9, 16]\n"
     ]
    }
   ],
   "source": [
    "nums = [0, 1, 2, 3, 4]\n",
    "\n",
    "squares = []\n",
    "for x in nums:\n",
    "    squares.append(x ** 2)\n",
    "print(squares)  "
   ]
  },
  {
   "cell_type": "code",
   "execution_count": 50,
   "id": "72022ed3",
   "metadata": {},
   "outputs": [
    {
     "name": "stdout",
     "output_type": "stream",
     "text": [
      "[0, 1, 4, 9, 16]\n"
     ]
    }
   ],
   "source": [
    "nums = [0, 1, 2, 3, 4]\n",
    "even_squares = [x ** 2 for x in nums if x < 5]\n",
    "print(even_squares)"
   ]
  },
  {
   "cell_type": "markdown",
   "id": "be2c4875",
   "metadata": {},
   "source": [
    "# Basic Function Implementation"
   ]
  },
  {
   "cell_type": "code",
   "execution_count": 62,
   "id": "17ff692c",
   "metadata": {},
   "outputs": [
    {
     "name": "stdout",
     "output_type": "stream",
     "text": [
      "3\n"
     ]
    }
   ],
   "source": [
    "#Function that accepts 2 values and returns the sum\n",
    "def sf(x, y):\n",
    "    print(x+y)\n",
    "\n",
    "sf(1, 2)"
   ]
  },
  {
   "cell_type": "code",
   "execution_count": 4,
   "id": "557a13dd",
   "metadata": {},
   "outputs": [
    {
     "name": "stdout",
     "output_type": "stream",
     "text": [
      "ab\n"
     ]
    }
   ],
   "source": [
    "sf('a','b')"
   ]
  },
  {
   "cell_type": "code",
   "execution_count": 9,
   "id": "a44a7120",
   "metadata": {},
   "outputs": [
    {
     "name": "stdout",
     "output_type": "stream",
     "text": [
      "(1, 2, 3)-------<class 'tuple'>\n"
     ]
    }
   ],
   "source": [
    "def sf_(*x):\n",
    "    print(x, type(x), sep='-------')\n",
    "\n",
    "sf_(1,2,3)"
   ]
  },
  {
   "cell_type": "code",
   "execution_count": 16,
   "id": "52a682a6",
   "metadata": {},
   "outputs": [
    {
     "name": "stdout",
     "output_type": "stream",
     "text": [
      "{'x': 1, 'y': 2, 'z': 3}-------<class 'dict'>\n"
     ]
    }
   ],
   "source": [
    "def sf_(**args):\n",
    "    print(args, type(args), sep='-------')\n",
    "\n",
    "sf_(x=1,y=2,z=3)"
   ]
  },
  {
   "cell_type": "code",
   "execution_count": 17,
   "id": "dbe4067a",
   "metadata": {},
   "outputs": [
    {
     "data": {
      "text/plain": [
       "3.3333333333333335"
      ]
     },
     "execution_count": 17,
     "metadata": {},
     "output_type": "execute_result"
    }
   ],
   "source": [
    "def get_mean(*l):\n",
    "    sm = 0\n",
    "    for i in l:\n",
    "        sm += i\n",
    "    return sm/(len(l)-1)\n",
    "\n",
    "get_mean(1,2,3,4)"
   ]
  },
  {
   "cell_type": "code",
   "execution_count": 21,
   "id": "ed006cff",
   "metadata": {},
   "outputs": [
    {
     "data": {
      "text/plain": [
       "3.3333333333333335"
      ]
     },
     "execution_count": 21,
     "metadata": {},
     "output_type": "execute_result"
    }
   ],
   "source": [
    "l = [1,2,3,4]\n",
    "get_mean(*l)"
   ]
  },
  {
   "cell_type": "markdown",
   "id": "e0f1d8ce",
   "metadata": {},
   "source": [
    "## Lambda\n",
    "\n",
    "A lambda function is a small anonymous function.\n",
    "\n",
    "A lambda function can take any number of arguments, but can only have one expression."
   ]
  },
  {
   "cell_type": "code",
   "execution_count": 61,
   "id": "b4d06aa5",
   "metadata": {},
   "outputs": [
    {
     "name": "stdout",
     "output_type": "stream",
     "text": [
      "30\n"
     ]
    }
   ],
   "source": [
    "x = lambda a, b : a * b\n",
    "print(x(5, 6))"
   ]
  },
  {
   "cell_type": "markdown",
   "id": "0fbf68bb",
   "metadata": {},
   "source": [
    "# Basic Classes Implementation\n",
    "\n",
    "Class is a Blueprint of an object. An object contains| both data(Attributes) and code(Functions). \n",
    "\n",
    "### Instance Method\n",
    "- Can Modify Object State.\n",
    "- Can Access both class and instance variables\n",
    "\n",
    "### Class Method\n",
    "- Can Modify Class State.\n",
    "- Can Access only Class Variables.\n",
    "\n",
    "### Static Method\n",
    "- Can't Modify any Class and Object State.\n",
    "- Can't Access either Class or Instance Variables, need to pass them as parameters.\n"
   ]
  },
  {
   "cell_type": "code",
   "execution_count": 41,
   "id": "766d473c",
   "metadata": {},
   "outputs": [],
   "source": [
    "import math\n",
    "\n",
    "class Pizza:\n",
    "    #Class Variable\n",
    "    medium = 'Medium'\n",
    "    #Private Class Variable\n",
    "    __large = 'Large'\n",
    "    def __init__(self, radius, ingredients):\n",
    "        #Instance Variables\n",
    "        self.radius = radius\n",
    "        self.ingredients = ingredients\n",
    "\n",
    "    @classmethod\n",
    "    def c_area(cls):\n",
    "        return cls.__large\n",
    "\n",
    "    def area(self):\n",
    "        return self.circle_area(self.radius)\n",
    "\n",
    "    @staticmethod\n",
    "    def circle_area(r):\n",
    "        return r ** 2 * math.pi"
   ]
  },
  {
   "cell_type": "markdown",
   "id": "4d861984",
   "metadata": {},
   "source": [
    "- __init__ method is a constructor. it is executed automatically when object of the class is created.\n",
    "- By default all variables in class are public.\n",
    "- use single underscore(_x) to make it protected (Accesible within class and it's subclasses)\n",
    "- use Double underscore(__x) to make it private (Accesible within the Class)"
   ]
  },
  {
   "cell_type": "code",
   "execution_count": 42,
   "id": "93058062",
   "metadata": {},
   "outputs": [],
   "source": [
    "cb = Pizza(7, 'Cheese')"
   ]
  },
  {
   "cell_type": "code",
   "execution_count": 25,
   "id": "cf37add8",
   "metadata": {},
   "outputs": [
    {
     "data": {
      "text/plain": [
       "7"
      ]
     },
     "execution_count": 25,
     "metadata": {},
     "output_type": "execute_result"
    }
   ],
   "source": [
    "cb.radius"
   ]
  },
  {
   "cell_type": "code",
   "execution_count": 27,
   "id": "57f7f83f",
   "metadata": {},
   "outputs": [
    {
     "data": {
      "text/plain": [
       "153.93804002589985"
      ]
     },
     "execution_count": 27,
     "metadata": {},
     "output_type": "execute_result"
    }
   ],
   "source": [
    "cb.circle_area(7)"
   ]
  },
  {
   "cell_type": "code",
   "execution_count": 28,
   "id": "c1b5087d",
   "metadata": {},
   "outputs": [
    {
     "data": {
      "text/plain": [
       "153.93804002589985"
      ]
     },
     "execution_count": 28,
     "metadata": {},
     "output_type": "execute_result"
    }
   ],
   "source": [
    "cb.area()"
   ]
  },
  {
   "cell_type": "code",
   "execution_count": 43,
   "id": "e807ef8e",
   "metadata": {},
   "outputs": [
    {
     "data": {
      "text/plain": [
       "'Large'"
      ]
     },
     "execution_count": 43,
     "metadata": {},
     "output_type": "execute_result"
    }
   ],
   "source": [
    "cb.c_area()"
   ]
  },
  {
   "cell_type": "code",
   "execution_count": 45,
   "id": "e331977e",
   "metadata": {},
   "outputs": [
    {
     "data": {
      "text/plain": [
       "'Medium'"
      ]
     },
     "execution_count": 45,
     "metadata": {},
     "output_type": "execute_result"
    }
   ],
   "source": [
    "cb.medium"
   ]
  },
  {
   "cell_type": "markdown",
   "id": "2c90aaeb",
   "metadata": {},
   "source": [
    "## Inheritence Implementation"
   ]
  },
  {
   "cell_type": "code",
   "execution_count": 2,
   "id": "3de7ff83",
   "metadata": {},
   "outputs": [
    {
     "name": "stdout",
     "output_type": "stream",
     "text": [
      "Employee name : xyz\n",
      "Working on project : NLP\n",
      "Project: NLP\n"
     ]
    }
   ],
   "source": [
    "# Parent class\n",
    "class Company:\n",
    "    def __init__(self):\n",
    "        # Protected member\n",
    "        self._project = \"NLP\"\n",
    "\n",
    "# child class\n",
    "class Employee(Company):\n",
    "    def __init__(self, name):\n",
    "        self.name = name\n",
    "        Company.__init__(self)\n",
    "\n",
    "    def show(self):\n",
    "        print(\"Employee name :\", self.name)\n",
    "        # Accessing protected member in child class\n",
    "        print(\"Working on project :\", self._project)\n",
    "\n",
    "c = Employee(\"xyz\")\n",
    "c.show()\n",
    "\n",
    "# Direct access protected data member\n",
    "print('Project:', c._project)"
   ]
  },
  {
   "cell_type": "markdown",
   "id": "4a2f5821",
   "metadata": {},
   "source": [
    "## Abstract Classes\n",
    "- We cannot Instantiate Abstract Class\n",
    "- Abstract Class has Abstract Method.\n",
    "- Abstract Method has a declaration but no implementation (Pass)"
   ]
  },
  {
   "cell_type": "code",
   "execution_count": 4,
   "id": "03694e01",
   "metadata": {},
   "outputs": [],
   "source": [
    "from abc import ABC,abstractmethod\n",
    " \n",
    "class Animal(ABC):\n",
    "    @abstractmethod\n",
    "    def move(self):\n",
    "        pass\n",
    "class Human(Animal):\n",
    "    def move(self):\n",
    "        print(\"I can walk and run\")\n",
    " \n",
    "class Snake(Animal):\n",
    "    def move(self):\n",
    "        print(\"I can crawl\")\n",
    " "
   ]
  },
  {
   "cell_type": "code",
   "execution_count": 5,
   "id": "ab55e5fe",
   "metadata": {},
   "outputs": [
    {
     "ename": "TypeError",
     "evalue": "Can't instantiate abstract class Animal with abstract methods move",
     "output_type": "error",
     "traceback": [
      "\u001b[1;31m---------------------------------------------------------------------------\u001b[0m",
      "\u001b[1;31mTypeError\u001b[0m                                 Traceback (most recent call last)",
      "\u001b[1;32m<ipython-input-5-12664dac705d>\u001b[0m in \u001b[0;36m<module>\u001b[1;34m\u001b[0m\n\u001b[1;32m----> 1\u001b[1;33m \u001b[0mc\u001b[0m\u001b[1;33m=\u001b[0m\u001b[0mAnimal\u001b[0m\u001b[1;33m(\u001b[0m\u001b[1;33m)\u001b[0m\u001b[1;33m\u001b[0m\u001b[1;33m\u001b[0m\u001b[0m\n\u001b[0m",
      "\u001b[1;31mTypeError\u001b[0m: Can't instantiate abstract class Animal with abstract methods move"
     ]
    }
   ],
   "source": [
    "c=Animal()"
   ]
  },
  {
   "cell_type": "code",
   "execution_count": 7,
   "id": "3023daf3",
   "metadata": {},
   "outputs": [
    {
     "name": "stdout",
     "output_type": "stream",
     "text": [
      "I can walk and run\n"
     ]
    }
   ],
   "source": [
    "c = Human()\n",
    "c.move()"
   ]
  },
  {
   "cell_type": "code",
   "execution_count": 10,
   "id": "05313cb6",
   "metadata": {},
   "outputs": [],
   "source": [
    "from abc import ABC,abstractmethod\n",
    " \n",
    "class Animal(ABC):\n",
    "    @abstractmethod\n",
    "    def move(self):\n",
    "        print('Abstract Method Printing')\n",
    "class Human(Animal):\n",
    "    def move(self):\n",
    "        super().move()\n",
    "        #Super helps call parent functions\n",
    "        print(\"I can walk and run\")"
   ]
  },
  {
   "cell_type": "code",
   "execution_count": 11,
   "id": "c88b74f9",
   "metadata": {},
   "outputs": [
    {
     "name": "stdout",
     "output_type": "stream",
     "text": [
      "Abstract Method Printing\n",
      "I can walk and run\n"
     ]
    }
   ],
   "source": [
    "d = Human()\n",
    "d.move()"
   ]
  },
  {
   "cell_type": "markdown",
   "id": "6dccdfa0",
   "metadata": {},
   "source": [
    "## Pandas"
   ]
  },
  {
   "cell_type": "code",
   "execution_count": null,
   "id": "6d0edcfc",
   "metadata": {},
   "outputs": [],
   "source": []
  }
 ],
 "metadata": {
  "kernelspec": {
   "display_name": "Python 3 (ipykernel)",
   "language": "python",
   "name": "python3"
  },
  "language_info": {
   "codemirror_mode": {
    "name": "ipython",
    "version": 3
   },
   "file_extension": ".py",
   "mimetype": "text/x-python",
   "name": "python",
   "nbconvert_exporter": "python",
   "pygments_lexer": "ipython3",
   "version": "3.9.12"
  }
 },
 "nbformat": 4,
 "nbformat_minor": 5
}
